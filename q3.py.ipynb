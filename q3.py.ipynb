{
 "cells": [
  {
   "cell_type": "code",
   "execution_count": 1,
   "id": "522369ea",
   "metadata": {},
   "outputs": [
    {
     "name": "stdout",
     "output_type": "stream",
     "text": [
      " key : math\n",
      "value : 34\n",
      " key : science\n",
      "value : 12\n",
      " key : english\n",
      "value : 89\n",
      " key : physics\n",
      "value : 8\n",
      "{'math': 34, 'science': 12, 'english': 89, 'physics': 8}\n"
     ]
    }
   ],
   "source": [
    "#creating a dictionary\n",
    "dictionary = {}\n",
    "for i in range(4):\n",
    "    subject = str(input(\" key : \")) #accepting the user's input\n",
    "    marks = int(input(\"value : \"))\n",
    "    dictionary[subject] = marks\n",
    "print(dictionary)"
   ]
  },
  {
   "cell_type": "code",
   "execution_count": 2,
   "id": "7aac53d8",
   "metadata": {},
   "outputs": [
    {
     "data": {
      "text/plain": [
       "{'math': 34, 'science': 12, 'english': 89, 'physics': 8}"
      ]
     },
     "execution_count": 2,
     "metadata": {},
     "output_type": "execute_result"
    }
   ],
   "source": [
    "dictionary"
   ]
  },
  {
   "cell_type": "code",
   "execution_count": 3,
   "id": "10f1b488",
   "metadata": {},
   "outputs": [
    {
     "data": {
      "text/plain": [
       "[('english', 89), ('math', 34), ('physics', 8), ('science', 12)]"
      ]
     },
     "execution_count": 3,
     "metadata": {},
     "output_type": "execute_result"
    }
   ],
   "source": [
    "#keeping the keys(subjects) in ascending order(alphabetically)\n",
    "sorted(dictionary.items())"
   ]
  },
  {
   "cell_type": "code",
   "execution_count": 4,
   "id": "8bc086a7",
   "metadata": {},
   "outputs": [
    {
     "data": {
      "text/plain": [
       "[(89, 'english'), (34, 'math'), (12, 'science'), (8, 'physics')]"
      ]
     },
     "execution_count": 4,
     "metadata": {},
     "output_type": "execute_result"
    }
   ],
   "source": [
    "#keeping the values(marks) in descending order\n",
    "value_key_pairs = ((value, key) for (key,value) in dictionary.items())\n",
    "sorted_value_key_pairs = sorted(value_key_pairs, reverse=True)\n",
    "sorted_value_key_pairs"
   ]
  },
  {
   "cell_type": "code",
   "execution_count": 5,
   "id": "62418051",
   "metadata": {},
   "outputs": [
    {
     "data": {
      "text/plain": [
       "{'english': 89, 'math': 34, 'science': 12, 'physics': 8}"
      ]
     },
     "execution_count": 5,
     "metadata": {},
     "output_type": "execute_result"
    }
   ],
   "source": [
    "#reversing the keys(subjects) and values(marks)\n",
    "{k: v for v, k in sorted_value_key_pairs}"
   ]
  },
  {
   "cell_type": "code",
   "execution_count": null,
   "id": "351ec863",
   "metadata": {},
   "outputs": [],
   "source": []
  }
 ],
 "metadata": {
  "kernelspec": {
   "display_name": "Python 3 (ipykernel)",
   "language": "python",
   "name": "python3"
  },
  "language_info": {
   "codemirror_mode": {
    "name": "ipython",
    "version": 3
   },
   "file_extension": ".py",
   "mimetype": "text/x-python",
   "name": "python",
   "nbconvert_exporter": "python",
   "pygments_lexer": "ipython3",
   "version": "3.9.13"
  }
 },
 "nbformat": 4,
 "nbformat_minor": 5
}
