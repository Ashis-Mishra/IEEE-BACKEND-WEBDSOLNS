{
 "cells": [
  {
   "cell_type": "code",
   "execution_count": 1,
   "id": "4cf496d4",
   "metadata": {},
   "outputs": [
    {
     "name": "stdout",
     "output_type": "stream",
     "text": [
      "XIV\n"
     ]
    }
   ],
   "source": [
    "#I could'nt figure out how to use the concept of class for this problem\n",
    "#but still with composite function algorithm i figured out a possible soln to the problem.\n",
    "\n",
    "\n",
    "#function for converting binary into integer\n",
    "def bin_to_num(binary_num):\n",
    "    num =  int(binary_num)\n",
    "    return num\n",
    "#function for converting the integer into roman number\n",
    "def intToRoman(num):\n",
    "  \n",
    "    # Storing roman values of digits from 0-9\n",
    "    m = [\"\", \"M\", \"MM\", \"MMM\"]\n",
    "    c = [\"\", \"C\", \"CC\", \"CCC\", \"CD\", \"D \",\n",
    "         \"DC\", \"DCC\", \"DCCC\", \"CM \"]\n",
    "    x = [\"\", \"X\", \"XX\", \"XXX\", \"XL\", \"L\",\n",
    "         \"LX\", \"LXX\", \"LXXX\", \"XC\"]\n",
    "    i = [\"\", \"I\", \"II\", \"III\", \"IV\", \"V\",\n",
    "         \"VI\", \"VII\", \"VIII\", \"IX\"]\n",
    "  \n",
    "    # Converting to roman\n",
    "    thousands = m[num // 1000]\n",
    "    hundreds = c[(num % 1000) // 100]\n",
    "    tens = x[(num % 100) // 10]\n",
    "    ones = i[num % 10]\n",
    "  \n",
    "    ans = (thousands + hundreds +\n",
    "           tens + ones)\n",
    "  \n",
    "    return ans\n",
    "#connecting both the functions\n",
    "binary_num = 0b1110\n",
    "num = bin_to_num(binary_num)\n",
    "print(intToRoman(num))\n",
    "#we get the result"
   ]
  },
  {
   "cell_type": "code",
   "execution_count": null,
   "id": "521cd3f9",
   "metadata": {},
   "outputs": [],
   "source": []
  }
 ],
 "metadata": {
  "kernelspec": {
   "display_name": "Python 3 (ipykernel)",
   "language": "python",
   "name": "python3"
  },
  "language_info": {
   "codemirror_mode": {
    "name": "ipython",
    "version": 3
   },
   "file_extension": ".py",
   "mimetype": "text/x-python",
   "name": "python",
   "nbconvert_exporter": "python",
   "pygments_lexer": "ipython3",
   "version": "3.9.13"
  }
 },
 "nbformat": 4,
 "nbformat_minor": 5
}
