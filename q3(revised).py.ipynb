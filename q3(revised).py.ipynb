{
 "cells": [
  {
   "cell_type": "code",
   "execution_count": 1,
   "id": "522369ea",
   "metadata": {},
   "outputs": [
    {
     "name": "stdout",
     "output_type": "stream",
     "text": [
      " key : math\n",
      "value : 34\n",
      " key : science\n",
      "value : 12\n",
      " key : english\n",
      "value : 89\n",
      " key : physics\n",
      "value : 8\n",
      "{'math': 34, 'science': 12, 'english': 89, 'physics': 8}\n"
     ]
    }
   ],
   "source": [
    "#creating a dictionary\n",
    "dictionary = {}\n",
    "for i in range(4):\n",
    "    subject = str(input(\" key : \")) #accepting the user's input\n",
    "    marks = int(input(\"value : \"))\n",
    "    dictionary[subject] = marks\n",
    "print(dictionary)"
   ]
  },
  {
   "cell_type": "code",
   "execution_count": 2,
   "id": "7aac53d8",
   "metadata": {},
   "outputs": [
    {
     "data": {
      "text/plain": [
       "{'math': 34, 'science': 12, 'english': 89, 'physics': 8}"
      ]
     },
     "execution_count": 2,
     "metadata": {},
     "output_type": "execute_result"
    }
   ],
   "source": [
    "dictionary"
   ]
  },
  {
   "cell_type": "code",
   "execution_count": 3,
   "id": "10f1b488",
   "metadata": {},
   "outputs": [
    {
     "data": {
      "text/plain": [
       "[('english', 89), ('math', 34), ('physics', 8), ('science', 12)]"
      ]
     },
     "execution_count": 3,
     "metadata": {},
     "output_type": "execute_result"
    }
   ],
   "source": [
    "#keeping the keys(subjects) in ascending order(alphabetically)\n",
    "sorted(dictionary.items())"
   ]
  },
  {
   "cell_type": "code",
   "execution_count": 6,
   "id": "8bc086a7",
   "metadata": {},
   "outputs": [
    {
     "data": {
      "text/plain": [
       "[(89, 'english'), (34, 'math'), (12, 'science'), (8, 'physics')]"
      ]
     },
     "execution_count": 6,
     "metadata": {},
     "output_type": "execute_result"
    }
   ],
   "source": [
    "#keeping the values(marks) in descending order\n",
    "value_key_pairs = ((value, key) for (key,value) in dictionary.items())\n",
    "sorted_value_key_pairs = sorted(value_key_pairs, reverse=True)\n",
    "sorted_value_key_pairs"
   ]
  },
  {
   "cell_type": "code",
   "execution_count": 5,
   "id": "62418051",
   "metadata": {},
   "outputs": [
    {
     "data": {
      "text/plain": [
       "{'english': 89, 'math': 34, 'science': 12, 'physics': 8}"
      ]
     },
     "execution_count": 5,
     "metadata": {},
     "output_type": "execute_result"
    }
   ],
   "source": [
    "#reversing the keys(subjects) and values(marks)\n",
    "{k: v for v, k in sorted_value_key_pairs}"
   ]
  },
  {
   "cell_type": "code",
   "execution_count": 58,
   "id": "99e2d45f",
   "metadata": {},
   "outputs": [
    {
     "data": {
      "text/plain": [
       "{'math': 34, 'science': 12, 'english': 89, 'physics': 8}"
      ]
     },
     "execution_count": 58,
     "metadata": {},
     "output_type": "execute_result"
    }
   ],
   "source": [
    "#now arranging in ascending order\n",
    "dictionary"
   ]
  },
  {
   "cell_type": "code",
   "execution_count": 59,
   "id": "6c7c4ae3",
   "metadata": {},
   "outputs": [
    {
     "data": {
      "text/plain": [
       "[('english', 89), ('math', 34), ('physics', 8), ('science', 12)]"
      ]
     },
     "execution_count": 59,
     "metadata": {},
     "output_type": "execute_result"
    }
   ],
   "source": [
    "sorted(dictionary.items())"
   ]
  },
  {
   "cell_type": "code",
   "execution_count": 60,
   "id": "194d2178",
   "metadata": {},
   "outputs": [
    {
     "data": {
      "text/plain": [
       "[(89, 'english'), (34, 'math'), (12, 'science'), (8, 'physics')]"
      ]
     },
     "execution_count": 60,
     "metadata": {},
     "output_type": "execute_result"
    }
   ],
   "source": [
    "#reversing keys and values in form of list\n",
    "value_key_pairs = ((value, key) for (key,value) in dictionary.items())\n",
    "sorted_value_key_pairs = sorted(value_key_pairs, reverse=True)\n",
    "sorted_value_key_pairs"
   ]
  },
  {
   "cell_type": "code",
   "execution_count": 61,
   "id": "83e882a1",
   "metadata": {},
   "outputs": [
    {
     "data": {
      "text/plain": [
       "{89: 'english', 34: 'math', 12: 'science', 8: 'physics'}"
      ]
     },
     "execution_count": 61,
     "metadata": {},
     "output_type": "execute_result"
    }
   ],
   "source": [
    "#creating a dictionary\n",
    "{k: v for k, v in sorted_value_key_pairs}"
   ]
  },
  {
   "cell_type": "code",
   "execution_count": 62,
   "id": "9b4a8585",
   "metadata": {},
   "outputs": [],
   "source": [
    "new_dict = {k: v for k, v in sorted_value_key_pairs}"
   ]
  },
  {
   "cell_type": "code",
   "execution_count": 63,
   "id": "180caba2",
   "metadata": {},
   "outputs": [
    {
     "data": {
      "text/plain": [
       "{89: 'english', 34: 'math', 12: 'science', 8: 'physics'}"
      ]
     },
     "execution_count": 63,
     "metadata": {},
     "output_type": "execute_result"
    }
   ],
   "source": [
    "new_dict"
   ]
  },
  {
   "cell_type": "code",
   "execution_count": 64,
   "id": "15676a0b",
   "metadata": {},
   "outputs": [
    {
     "data": {
      "text/plain": [
       "[(8, 'physics'), (12, 'science'), (34, 'math'), (89, 'english')]"
      ]
     },
     "execution_count": 64,
     "metadata": {},
     "output_type": "execute_result"
    }
   ],
   "source": [
    "sorted(new_dict.items())"
   ]
  },
  {
   "cell_type": "code",
   "execution_count": 65,
   "id": "631db297",
   "metadata": {},
   "outputs": [],
   "source": [
    "newlist = sorted(new_dict.items())"
   ]
  },
  {
   "cell_type": "code",
   "execution_count": 66,
   "id": "6414e00b",
   "metadata": {},
   "outputs": [
    {
     "data": {
      "text/plain": [
       "[(8, 'physics'), (12, 'science'), (34, 'math'), (89, 'english')]"
      ]
     },
     "execution_count": 66,
     "metadata": {},
     "output_type": "execute_result"
    }
   ],
   "source": [
    "newlist"
   ]
  },
  {
   "cell_type": "code",
   "execution_count": 68,
   "id": "94ac224f",
   "metadata": {},
   "outputs": [
    {
     "data": {
      "text/plain": [
       "{'physics': 8, 'science': 12, 'math': 34, 'english': 89}"
      ]
     },
     "execution_count": 68,
     "metadata": {},
     "output_type": "execute_result"
    }
   ],
   "source": [
    "#finally creating the dictionary\n",
    "{k: v for v, k in newlist}\n",
    "#creating the dictionary where values are in ascending order"
   ]
  },
  {
   "cell_type": "code",
   "execution_count": null,
   "id": "1f271d83",
   "metadata": {},
   "outputs": [],
   "source": []
  }
 ],
 "metadata": {
  "kernelspec": {
   "display_name": "Python 3 (ipykernel)",
   "language": "python",
   "name": "python3"
  },
  "language_info": {
   "codemirror_mode": {
    "name": "ipython",
    "version": 3
   },
   "file_extension": ".py",
   "mimetype": "text/x-python",
   "name": "python",
   "nbconvert_exporter": "python",
   "pygments_lexer": "ipython3",
   "version": "3.9.13"
  }
 },
 "nbformat": 4,
 "nbformat_minor": 5
}
