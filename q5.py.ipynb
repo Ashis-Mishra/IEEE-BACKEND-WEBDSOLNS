{
 "cells": [
  {
   "cell_type": "code",
   "execution_count": 29,
   "id": "6b9a7f36",
   "metadata": {},
   "outputs": [],
   "source": [
    "#subsets of a set\n",
    "class set_solution:\n",
    "    def subsets(self,nums):\n",
    "        new_set = [[]] #an empty set\n",
    "        \n",
    "        \n",
    "        for num in nums:\n",
    "            new_set += [ (i + [num]) for i in new_set] #iterating through the new set\n",
    "        return new_set"
   ]
  },
  {
   "cell_type": "code",
   "execution_count": 42,
   "id": "bb0be17a",
   "metadata": {},
   "outputs": [
    {
     "name": "stdout",
     "output_type": "stream",
     "text": [
      "[[], [1], [2], [1, 2], [3], [1, 3], [2, 3], [1, 2, 3]]\n"
     ]
    }
   ],
   "source": [
    "print(set_solution().subsets([1,2,3]))"
   ]
  },
  {
   "cell_type": "code",
   "execution_count": null,
   "id": "c148f83b",
   "metadata": {},
   "outputs": [],
   "source": []
  }
 ],
 "metadata": {
  "kernelspec": {
   "display_name": "Python 3 (ipykernel)",
   "language": "python",
   "name": "python3"
  },
  "language_info": {
   "codemirror_mode": {
    "name": "ipython",
    "version": 3
   },
   "file_extension": ".py",
   "mimetype": "text/x-python",
   "name": "python",
   "nbconvert_exporter": "python",
   "pygments_lexer": "ipython3",
   "version": "3.9.13"
  }
 },
 "nbformat": 4,
 "nbformat_minor": 5
}
