{
 "cells": [
  {
   "cell_type": "code",
   "execution_count": 1,
   "id": "dc659fb5",
   "metadata": {},
   "outputs": [
    {
     "name": "stdout",
     "output_type": "stream",
     "text": [
      "*******\n",
      "     * \n",
      "    *  \n",
      "   *   \n",
      "  *    \n",
      " *     \n",
      "*******\n"
     ]
    }
   ],
   "source": [
    "print('*******')\n",
    "print('     * ')\n",
    "print('    *  ')\n",
    "print('   *   ')\n",
    "print('  *    ')\n",
    "print(' *     ')\n",
    "print('*******')"
   ]
  },
  {
   "cell_type": "code",
   "execution_count": 2,
   "id": "7509655c",
   "metadata": {},
   "outputs": [
    {
     "name": "stdout",
     "output_type": "stream",
     "text": [
      "ABCDEFEDCBA\n",
      "ABCDE EDCBA\n",
      "ABCD   DCBA\n",
      "ABC     CBA\n",
      "AB       BA\n",
      "A         A\n",
      "ABC     CBA\n",
      "ABCD   DCBA\n",
      "ABCDE EDCBA\n",
      "ABCDEFEDCBA\n"
     ]
    }
   ],
   "source": [
    "print('ABCDEFEDCBA')\n",
    "print('ABCDE EDCBA')\n",
    "print('ABCD   DCBA')\n",
    "print('ABC     CBA')\n",
    "print('AB       BA')\n",
    "print('A         A')\n",
    "print('ABC     CBA')\n",
    "print('ABCD   DCBA')\n",
    "print('ABCDE EDCBA')\n",
    "print('ABCDEFEDCBA')"
   ]
  },
  {
   "cell_type": "code",
   "execution_count": null,
   "id": "4d662a34",
   "metadata": {},
   "outputs": [],
   "source": []
  }
 ],
 "metadata": {
  "kernelspec": {
   "display_name": "Python 3 (ipykernel)",
   "language": "python",
   "name": "python3"
  },
  "language_info": {
   "codemirror_mode": {
    "name": "ipython",
    "version": 3
   },
   "file_extension": ".py",
   "mimetype": "text/x-python",
   "name": "python",
   "nbconvert_exporter": "python",
   "pygments_lexer": "ipython3",
   "version": "3.9.13"
  }
 },
 "nbformat": 4,
 "nbformat_minor": 5
}
